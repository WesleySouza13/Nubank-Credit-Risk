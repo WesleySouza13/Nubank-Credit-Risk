{
 "cells": [
  {
   "cell_type": "code",
   "execution_count": 1,
   "id": "465d5f20",
   "metadata": {},
   "outputs": [
    {
     "name": "stderr",
     "output_type": "stream",
     "text": [
      "C:\\Users\\souza\\AppData\\Local\\Packages\\PythonSoftwareFoundation.Python.3.11_qbz5n2kfra8p0\\LocalCache\\local-packages\\Python311\\site-packages\\tqdm\\auto.py:21: TqdmWarning: IProgress not found. Please update jupyter and ipywidgets. See https://ipywidgets.readthedocs.io/en/stable/user_install.html\n",
      "  from .autonotebook import tqdm as notebook_tqdm\n"
     ]
    }
   ],
   "source": [
    "import pandas as pd\n",
    "from sklearn.tree import DecisionTreeClassifier\n",
    "import optuna\n",
    "from sklearn.pipeline import Pipeline\n",
    "from sklearn.compose import ColumnTransformer\n",
    "from sklearn.preprocessing import OneHotEncoder\n",
    "from sklearn.model_selection import train_test_split\n",
    "from sklearn.metrics import accuracy_score, recall_score, precision_score"
   ]
  },
  {
   "cell_type": "code",
   "execution_count": 2,
   "id": "2733ef06",
   "metadata": {},
   "outputs": [],
   "source": [
    "df = pd.read_csv('C:\\\\Users\\\\souza\\\\OneDrive\\\\Área de Trabalho\\\\Risk Nubank\\\\data\\\\data_tratado.csv')\n",
    "df = df.drop('Unnamed: 0', axis=1)\n",
    "df = df.drop('score_rating_enc', axis=1)\n",
    "x = df.drop('target_default', axis=1)\n",
    "y = df['target_default']"
   ]
  },
  {
   "cell_type": "code",
   "execution_count": 3,
   "id": "40c75f5b",
   "metadata": {},
   "outputs": [],
   "source": [
    "# split \n",
    "x_train, x_test, y_train, y_test = train_test_split(x, y, test_size=0.2)"
   ]
  },
  {
   "cell_type": "code",
   "execution_count": null,
   "id": "f173ccb4",
   "metadata": {},
   "outputs": [],
   "source": [
    "# seleçao de atributos \n",
    "cat_atribs = ['score_rating', 'situation']\n",
    "num_atribs = ['score_3', 'risk_rate', 'credit_limit', 'income', 'n_defaulted_loans', ' n_issues', 'ok_since',\n",
    "            'n_bankruptcies']"
   ]
  },
  {
   "cell_type": "code",
   "execution_count": 5,
   "id": "aa5a03b6",
   "metadata": {},
   "outputs": [],
   "source": [
    "column_transf = ColumnTransformer([('onehot', OneHotEncoder(handle_unknown='ignore'), cat_atribs)\n",
    "                                ])\n",
    "pipe_tree = Pipeline(steps=[('transformer', column_transf),\n",
    "                    ('model', DecisionTreeClassifier())\n",
    "                    ])"
   ]
  },
  {
   "cell_type": "code",
   "execution_count": null,
   "id": "9a921a77",
   "metadata": {},
   "outputs": [
    {
     "name": "stderr",
     "output_type": "stream",
     "text": [
      "[I 2025-08-06 16:10:15,978] A new study created in memory with name: no-name-cc015095-89de-4043-97f4-ad1ab82c0848\n",
      "[I 2025-08-06 16:10:16,010] Trial 0 finished with value: 1.0 and parameters: {'criterion': 'log_loss', 'max_depth': 20, 'min_samples_split': 46, 'min_samples_leaf': 2, 'max_leaf_nodes': 47}. Best is trial 0 with value: 1.0.\n",
      "[I 2025-08-06 16:10:16,040] Trial 1 finished with value: 0.9985207100591716 and parameters: {'criterion': 'log_loss', 'max_depth': 16, 'min_samples_split': 14, 'min_samples_leaf': 42, 'max_leaf_nodes': 21}. Best is trial 0 with value: 1.0.\n",
      "[I 2025-08-06 16:10:16,066] Trial 2 finished with value: 0.9985207100591716 and parameters: {'criterion': 'entropy', 'max_depth': 31, 'min_samples_split': 46, 'min_samples_leaf': 7, 'max_leaf_nodes': 19}. Best is trial 0 with value: 1.0.\n",
      "[I 2025-08-06 16:10:16,094] Trial 3 finished with value: 0.9985207100591716 and parameters: {'criterion': 'log_loss', 'max_depth': 16, 'min_samples_split': 33, 'min_samples_leaf': 50, 'max_leaf_nodes': 6}. Best is trial 0 with value: 1.0.\n",
      "[I 2025-08-06 16:10:16,120] Trial 4 finished with value: 0.9985207100591716 and parameters: {'criterion': 'gini', 'max_depth': 48, 'min_samples_split': 25, 'min_samples_leaf': 11, 'max_leaf_nodes': 9}. Best is trial 0 with value: 1.0.\n",
      "[I 2025-08-06 16:10:16,151] Trial 5 finished with value: 0.9985207100591716 and parameters: {'criterion': 'gini', 'max_depth': 43, 'min_samples_split': 46, 'min_samples_leaf': 8, 'max_leaf_nodes': 33}. Best is trial 0 with value: 1.0.\n",
      "[I 2025-08-06 16:10:16,182] Trial 6 finished with value: 0.9985207100591716 and parameters: {'criterion': 'entropy', 'max_depth': 39, 'min_samples_split': 43, 'min_samples_leaf': 14, 'max_leaf_nodes': 40}. Best is trial 0 with value: 1.0.\n",
      "[I 2025-08-06 16:10:16,208] Trial 7 finished with value: 0.9985207100591716 and parameters: {'criterion': 'gini', 'max_depth': 38, 'min_samples_split': 15, 'min_samples_leaf': 16, 'max_leaf_nodes': 5}. Best is trial 0 with value: 1.0.\n",
      "[I 2025-08-06 16:10:16,235] Trial 8 finished with value: 0.9985207100591716 and parameters: {'criterion': 'log_loss', 'max_depth': 24, 'min_samples_split': 41, 'min_samples_leaf': 14, 'max_leaf_nodes': 6}. Best is trial 0 with value: 1.0.\n",
      "[I 2025-08-06 16:10:16,265] Trial 9 finished with value: 0.9985207100591716 and parameters: {'criterion': 'gini', 'max_depth': 15, 'min_samples_split': 6, 'min_samples_leaf': 23, 'max_leaf_nodes': 38}. Best is trial 0 with value: 1.0.\n",
      "[I 2025-08-06 16:10:16,311] Trial 10 finished with value: 0.9985207100591716 and parameters: {'criterion': 'log_loss', 'max_depth': 3, 'min_samples_split': 32, 'min_samples_leaf': 32, 'max_leaf_nodes': 50}. Best is trial 0 with value: 1.0.\n",
      "[I 2025-08-06 16:10:16,364] Trial 11 finished with value: 0.9985207100591716 and parameters: {'criterion': 'log_loss', 'max_depth': 16, 'min_samples_split': 16, 'min_samples_leaf': 38, 'max_leaf_nodes': 22}. Best is trial 0 with value: 1.0.\n",
      "[I 2025-08-06 16:10:16,405] Trial 12 finished with value: 0.9985207100591716 and parameters: {'criterion': 'log_loss', 'max_depth': 5, 'min_samples_split': 3, 'min_samples_leaf': 48, 'max_leaf_nodes': 28}. Best is trial 0 with value: 1.0.\n",
      "[I 2025-08-06 16:10:16,449] Trial 13 finished with value: 0.9985207100591716 and parameters: {'criterion': 'log_loss', 'max_depth': 26, 'min_samples_split': 18, 'min_samples_leaf': 38, 'max_leaf_nodes': 49}. Best is trial 0 with value: 1.0.\n",
      "[I 2025-08-06 16:10:16,495] Trial 14 finished with value: 0.9985207100591716 and parameters: {'criterion': 'log_loss', 'max_depth': 9, 'min_samples_split': 11, 'min_samples_leaf': 25, 'max_leaf_nodes': 15}. Best is trial 0 with value: 1.0.\n",
      "[I 2025-08-06 16:10:16,546] Trial 15 finished with value: 0.9985207100591716 and parameters: {'criterion': 'log_loss', 'max_depth': 21, 'min_samples_split': 24, 'min_samples_leaf': 42, 'max_leaf_nodes': 28}. Best is trial 0 with value: 1.0.\n",
      "[I 2025-08-06 16:10:16,605] Trial 16 finished with value: 1.0 and parameters: {'criterion': 'entropy', 'max_depth': 31, 'min_samples_split': 34, 'min_samples_leaf': 3, 'max_leaf_nodes': 42}. Best is trial 0 with value: 1.0.\n",
      "[I 2025-08-06 16:10:16,647] Trial 17 finished with value: 1.0 and parameters: {'criterion': 'entropy', 'max_depth': 32, 'min_samples_split': 37, 'min_samples_leaf': 3, 'max_leaf_nodes': 43}. Best is trial 0 with value: 1.0.\n",
      "[I 2025-08-06 16:10:16,689] Trial 18 finished with value: 1.0 and parameters: {'criterion': 'entropy', 'max_depth': 31, 'min_samples_split': 50, 'min_samples_leaf': 3, 'max_leaf_nodes': 45}. Best is trial 0 with value: 1.0.\n",
      "[I 2025-08-06 16:10:16,734] Trial 19 finished with value: 0.9985207100591716 and parameters: {'criterion': 'entropy', 'max_depth': 21, 'min_samples_split': 31, 'min_samples_leaf': 22, 'max_leaf_nodes': 35}. Best is trial 0 with value: 1.0.\n",
      "[I 2025-08-06 16:10:16,774] Trial 20 finished with value: 0.9985207100591716 and parameters: {'criterion': 'entropy', 'max_depth': 36, 'min_samples_split': 38, 'min_samples_leaf': 19, 'max_leaf_nodes': 45}. Best is trial 0 with value: 1.0.\n",
      "[I 2025-08-06 16:10:16,815] Trial 21 finished with value: 1.0 and parameters: {'criterion': 'entropy', 'max_depth': 31, 'min_samples_split': 37, 'min_samples_leaf': 2, 'max_leaf_nodes': 43}. Best is trial 0 with value: 1.0.\n",
      "[I 2025-08-06 16:10:16,857] Trial 22 finished with value: 0.9985207100591716 and parameters: {'criterion': 'entropy', 'max_depth': 34, 'min_samples_split': 36, 'min_samples_leaf': 6, 'max_leaf_nodes': 33}. Best is trial 0 with value: 1.0.\n",
      "[I 2025-08-06 16:10:16,900] Trial 23 finished with value: 0.9985207100591716 and parameters: {'criterion': 'entropy', 'max_depth': 43, 'min_samples_split': 29, 'min_samples_leaf': 10, 'max_leaf_nodes': 40}. Best is trial 0 with value: 1.0.\n",
      "[I 2025-08-06 16:10:16,941] Trial 24 finished with value: 1.0 and parameters: {'criterion': 'entropy', 'max_depth': 28, 'min_samples_split': 41, 'min_samples_leaf': 2, 'max_leaf_nodes': 47}. Best is trial 0 with value: 1.0.\n",
      "[I 2025-08-06 16:10:16,986] Trial 25 finished with value: 0.9985207100591716 and parameters: {'criterion': 'entropy', 'max_depth': 22, 'min_samples_split': 50, 'min_samples_leaf': 29, 'max_leaf_nodes': 42}. Best is trial 0 with value: 1.0.\n",
      "[I 2025-08-06 16:10:17,029] Trial 26 finished with value: 0.9985207100591716 and parameters: {'criterion': 'entropy', 'max_depth': 28, 'min_samples_split': 28, 'min_samples_leaf': 6, 'max_leaf_nodes': 37}. Best is trial 0 with value: 1.0.\n",
      "[I 2025-08-06 16:10:17,072] Trial 27 finished with value: 0.9985207100591716 and parameters: {'criterion': 'entropy', 'max_depth': 10, 'min_samples_split': 35, 'min_samples_leaf': 11, 'max_leaf_nodes': 50}. Best is trial 0 with value: 1.0.\n",
      "[I 2025-08-06 16:10:17,122] Trial 28 finished with value: 0.9985207100591716 and parameters: {'criterion': 'gini', 'max_depth': 34, 'min_samples_split': 45, 'min_samples_leaf': 18, 'max_leaf_nodes': 32}. Best is trial 0 with value: 1.0.\n",
      "[I 2025-08-06 16:10:17,178] Trial 29 finished with value: 0.9985207100591716 and parameters: {'criterion': 'entropy', 'max_depth': 19, 'min_samples_split': 20, 'min_samples_leaf': 4, 'max_leaf_nodes': 46}. Best is trial 0 with value: 1.0.\n",
      "[I 2025-08-06 16:10:17,228] Trial 30 finished with value: 0.9985207100591716 and parameters: {'criterion': 'log_loss', 'max_depth': 42, 'min_samples_split': 41, 'min_samples_leaf': 9, 'max_leaf_nodes': 42}. Best is trial 0 with value: 1.0.\n",
      "[I 2025-08-06 16:10:17,273] Trial 31 finished with value: 1.0 and parameters: {'criterion': 'entropy', 'max_depth': 30, 'min_samples_split': 48, 'min_samples_leaf': 2, 'max_leaf_nodes': 46}. Best is trial 0 with value: 1.0.\n",
      "[I 2025-08-06 16:10:17,319] Trial 32 finished with value: 0.9985207100591716 and parameters: {'criterion': 'entropy', 'max_depth': 33, 'min_samples_split': 50, 'min_samples_leaf': 5, 'max_leaf_nodes': 44}. Best is trial 0 with value: 1.0.\n",
      "[I 2025-08-06 16:10:17,362] Trial 33 finished with value: 0.9985207100591716 and parameters: {'criterion': 'entropy', 'max_depth': 26, 'min_samples_split': 44, 'min_samples_leaf': 4, 'max_leaf_nodes': 39}. Best is trial 0 with value: 1.0.\n",
      "[I 2025-08-06 16:10:17,405] Trial 34 finished with value: 0.9985207100591716 and parameters: {'criterion': 'entropy', 'max_depth': 29, 'min_samples_split': 40, 'min_samples_leaf': 13, 'max_leaf_nodes': 36}. Best is trial 0 with value: 1.0.\n",
      "[I 2025-08-06 16:10:17,448] Trial 35 finished with value: 0.9985207100591716 and parameters: {'criterion': 'entropy', 'max_depth': 25, 'min_samples_split': 47, 'min_samples_leaf': 8, 'max_leaf_nodes': 48}. Best is trial 0 with value: 1.0.\n",
      "[I 2025-08-06 16:10:17,504] Trial 36 finished with value: 0.9985207100591716 and parameters: {'criterion': 'entropy', 'max_depth': 37, 'min_samples_split': 34, 'min_samples_leaf': 7, 'max_leaf_nodes': 42}. Best is trial 0 with value: 1.0.\n",
      "[I 2025-08-06 16:10:17,550] Trial 37 finished with value: 0.9985207100591716 and parameters: {'criterion': 'gini', 'max_depth': 48, 'min_samples_split': 43, 'min_samples_leaf': 12, 'max_leaf_nodes': 30}. Best is trial 0 with value: 1.0.\n",
      "[I 2025-08-06 16:10:17,601] Trial 38 finished with value: 0.9985207100591716 and parameters: {'criterion': 'log_loss', 'max_depth': 32, 'min_samples_split': 48, 'min_samples_leaf': 9, 'max_leaf_nodes': 23}. Best is trial 0 with value: 1.0.\n",
      "[I 2025-08-06 16:10:17,650] Trial 39 finished with value: 1.0 and parameters: {'criterion': 'entropy', 'max_depth': 40, 'min_samples_split': 39, 'min_samples_leaf': 2, 'max_leaf_nodes': 40}. Best is trial 0 with value: 1.0.\n",
      "[I 2025-08-06 16:10:17,697] Trial 40 finished with value: 0.9985207100591716 and parameters: {'criterion': 'gini', 'max_depth': 45, 'min_samples_split': 45, 'min_samples_leaf': 15, 'max_leaf_nodes': 18}. Best is trial 0 with value: 1.0.\n",
      "[I 2025-08-06 16:10:17,739] Trial 41 finished with value: 0.9985207100591716 and parameters: {'criterion': 'entropy', 'max_depth': 31, 'min_samples_split': 38, 'min_samples_leaf': 4, 'max_leaf_nodes': 43}. Best is trial 0 with value: 1.0.\n",
      "[I 2025-08-06 16:10:17,786] Trial 42 finished with value: 1.0 and parameters: {'criterion': 'entropy', 'max_depth': 36, 'min_samples_split': 36, 'min_samples_leaf': 2, 'max_leaf_nodes': 44}. Best is trial 0 with value: 1.0.\n",
      "[I 2025-08-06 16:10:17,830] Trial 43 finished with value: 0.9985207100591716 and parameters: {'criterion': 'entropy', 'max_depth': 23, 'min_samples_split': 24, 'min_samples_leaf': 6, 'max_leaf_nodes': 48}. Best is trial 0 with value: 1.0.\n",
      "[I 2025-08-06 16:10:17,875] Trial 44 finished with value: 0.9985207100591716 and parameters: {'criterion': 'entropy', 'max_depth': 18, 'min_samples_split': 31, 'min_samples_leaf': 4, 'max_leaf_nodes': 41}. Best is trial 0 with value: 1.0.\n",
      "[I 2025-08-06 16:10:17,936] Trial 45 finished with value: 0.9985207100591716 and parameters: {'criterion': 'log_loss', 'max_depth': 28, 'min_samples_split': 42, 'min_samples_leaf': 8, 'max_leaf_nodes': 38}. Best is trial 0 with value: 1.0.\n",
      "[I 2025-08-06 16:10:17,985] Trial 46 finished with value: 0.9985207100591716 and parameters: {'criterion': 'log_loss', 'max_depth': 14, 'min_samples_split': 27, 'min_samples_leaf': 11, 'max_leaf_nodes': 45}. Best is trial 0 with value: 1.0.\n",
      "[I 2025-08-06 16:10:18,033] Trial 47 finished with value: 0.9985207100591716 and parameters: {'criterion': 'entropy', 'max_depth': 31, 'min_samples_split': 33, 'min_samples_leaf': 4, 'max_leaf_nodes': 35}. Best is trial 0 with value: 1.0.\n",
      "[I 2025-08-06 16:10:18,079] Trial 48 finished with value: 0.9985207100591716 and parameters: {'criterion': 'gini', 'max_depth': 35, 'min_samples_split': 46, 'min_samples_leaf': 17, 'max_leaf_nodes': 48}. Best is trial 0 with value: 1.0.\n",
      "[I 2025-08-06 16:10:18,125] Trial 49 finished with value: 1.0 and parameters: {'criterion': 'log_loss', 'max_depth': 39, 'min_samples_split': 38, 'min_samples_leaf': 2, 'max_leaf_nodes': 13}. Best is trial 0 with value: 1.0.\n"
     ]
    },
    {
     "name": "stdout",
     "output_type": "stream",
     "text": [
      "melhores parametros arvores de decisao: {'criterion': 'log_loss', 'max_depth': 20, 'min_samples_split': 46, 'min_samples_leaf': 2, 'max_leaf_nodes': 47}\n"
     ]
    }
   ],
   "source": [
    "# estudo decision tree\n",
    "def objective(trial):\n",
    "    params = {\n",
    "        'criterion': trial.suggest_categorical('criterion', ['gini', 'entropy', 'log_loss']),\n",
    "        'max_depth': trial.suggest_int('max_depth', 2, 50),\n",
    "        'min_samples_split': trial.suggest_int('min_samples_split', 2, 50),\n",
    "        'min_samples_leaf': trial.suggest_int('min_samples_leaf', 2,50),\n",
    "        'max_leaf_nodes': trial.suggest_int('max_leaf_nodes', 2,50)\n",
    "    }\n",
    "    model = pipe_tree.set_params(model=DecisionTreeClassifier(**params, random_state=42)).fit(x_train, y_train)\n",
    "    y_pred = model.predict(x_test)\n",
    "    recall = recall_score(y_test, y_pred)\n",
    "    \n",
    "    return recall\n",
    "study = optuna.create_study(direction='maximize')\n",
    "study.optimize(objective, n_trials=50)\n",
    "print(f'melhores parametros arvores de decisao: {study.best_params}')"
   ]
  },
  {
   "cell_type": "code",
   "execution_count": 9,
   "id": "7cb5fd75",
   "metadata": {},
   "outputs": [
    {
     "name": "stdout",
     "output_type": "stream",
     "text": [
      "recall: 1.0\n",
      "acc: 1.0\n",
      "precision: 1.0\n"
     ]
    }
   ],
   "source": [
    "decision_tree = pipe_tree.set_params(model=DecisionTreeClassifier(criterion='log_loss', max_depth=10,\n",
    "                                                                min_samples_split=46,\n",
    "                                                                min_samples_leaf=2,\n",
    "                                                                max_leaf_nodes=47,\n",
    "                                                                random_state=42 \n",
    "                                                                )).fit(x_train, y_train)\n",
    "y_pred = decision_tree.predict(x_test)\n",
    "print(f'recall: {recall_score(y_test, y_pred)}')\n",
    "print(f'acc: {accuracy_score(y_test, y_pred)}')\n",
    "print(f'precision: {precision_score(y_test, y_pred)}')"
   ]
  }
 ],
 "metadata": {
  "kernelspec": {
   "display_name": "Python 3",
   "language": "python",
   "name": "python3"
  },
  "language_info": {
   "codemirror_mode": {
    "name": "ipython",
    "version": 3
   },
   "file_extension": ".py",
   "mimetype": "text/x-python",
   "name": "python",
   "nbconvert_exporter": "python",
   "pygments_lexer": "ipython3",
   "version": "3.11.9"
  }
 },
 "nbformat": 4,
 "nbformat_minor": 5
}
