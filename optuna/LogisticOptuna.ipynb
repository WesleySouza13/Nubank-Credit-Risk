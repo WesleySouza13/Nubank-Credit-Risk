{
 "cells": [
  {
   "cell_type": "code",
   "execution_count": 1,
   "id": "6d85f8bd",
   "metadata": {},
   "outputs": [
    {
     "name": "stderr",
     "output_type": "stream",
     "text": [
      "C:\\Users\\souza\\AppData\\Local\\Packages\\PythonSoftwareFoundation.Python.3.11_qbz5n2kfra8p0\\LocalCache\\local-packages\\Python311\\site-packages\\tqdm\\auto.py:21: TqdmWarning: IProgress not found. Please update jupyter and ipywidgets. See https://ipywidgets.readthedocs.io/en/stable/user_install.html\n",
      "  from .autonotebook import tqdm as notebook_tqdm\n"
     ]
    }
   ],
   "source": [
    "import pandas as pd\n",
    "from sklearn.linear_model import LogisticRegression\n",
    "import optuna\n",
    "from sklearn.pipeline import Pipeline\n",
    "from sklearn.compose import ColumnTransformer\n",
    "from sklearn.preprocessing import OneHotEncoder\n",
    "from sklearn.model_selection import train_test_split\n",
    "from sklearn.metrics import accuracy_score, recall_score, precision_score"
   ]
  },
  {
   "cell_type": "code",
   "execution_count": 2,
   "id": "e2e1d9cf",
   "metadata": {},
   "outputs": [],
   "source": [
    "df = pd.read_csv('C:\\\\Users\\\\souza\\\\OneDrive\\\\Área de Trabalho\\\\Risk Nubank\\\\data\\\\data_tratado.csv')\n",
    "df = df.drop('Unnamed: 0', axis=1)\n",
    "df = df.drop('score_rating_enc', axis=1)\n",
    "x = df.drop('target_default', axis=1)\n",
    "y = df['target_default']"
   ]
  },
  {
   "cell_type": "code",
   "execution_count": 3,
   "id": "f2ab6a19",
   "metadata": {},
   "outputs": [],
   "source": [
    "# split \n",
    "x_train, x_test, y_train, y_test = train_test_split(x, y, test_size=0.2)"
   ]
  },
  {
   "cell_type": "code",
   "execution_count": null,
   "id": "d20f05de",
   "metadata": {},
   "outputs": [],
   "source": [
    "# seleçao de atributos \n",
    "cat_atribs = ['score_rating', 'situation']\n",
    "num_atribs = ['score_3', 'risk_rate', 'credit_limit', 'income', 'n_defaulted_loans', ' n_issues', 'ok_since',\n",
    "            'n_bankruptcies']"
   ]
  },
  {
   "cell_type": "code",
   "execution_count": 5,
   "id": "f7619ee9",
   "metadata": {},
   "outputs": [],
   "source": [
    "column_transf = ColumnTransformer([('onehot', OneHotEncoder(handle_unknown='ignore'), cat_atribs)\n",
    "                                ])\n",
    "pipe_log = Pipeline(steps=[('transformer', column_transf),\n",
    "                    ('model', LogisticRegression())\n",
    "                    ])"
   ]
  },
  {
   "cell_type": "code",
   "execution_count": null,
   "id": "472ec5fa",
   "metadata": {},
   "outputs": [
    {
     "name": "stderr",
     "output_type": "stream",
     "text": [
      "[I 2025-08-06 16:09:33,947] A new study created in memory with name: no-name-537ed9e0-b4f8-4bb1-afb5-38029c1a44a7\n",
      "[I 2025-08-06 16:09:34,012] Trial 0 finished with value: 0.9992753623188406 and parameters: {'C': 0.5139292173030473, 'max_iter': 18, 'penalty': 'l2'}. Best is trial 0 with value: 0.9992753623188406.\n",
      "[I 2025-08-06 16:09:34,060] Trial 1 finished with value: 0.9992753623188406 and parameters: {'C': 0.42613765423266337, 'max_iter': 66, 'penalty': 'l2'}. Best is trial 0 with value: 0.9992753623188406.\n",
      "[I 2025-08-06 16:09:34,100] Trial 2 finished with value: 0.9992753623188406 and parameters: {'C': 0.6336170959599446, 'max_iter': 73, 'penalty': 'l2'}. Best is trial 0 with value: 0.9992753623188406.\n",
      "[I 2025-08-06 16:09:34,142] Trial 3 finished with value: 0.9992753623188406 and parameters: {'C': 0.7019821697135405, 'max_iter': 47, 'penalty': 'l2'}. Best is trial 0 with value: 0.9992753623188406.\n",
      "[I 2025-08-06 16:09:34,186] Trial 4 finished with value: 0.9992753623188406 and parameters: {'C': 0.7177888152165293, 'max_iter': 31, 'penalty': 'l2'}. Best is trial 0 with value: 0.9992753623188406.\n",
      "[I 2025-08-06 16:09:34,235] Trial 5 finished with value: 0.9992753623188406 and parameters: {'C': 0.9536615223527369, 'max_iter': 23, 'penalty': 'l2'}. Best is trial 0 with value: 0.9992753623188406.\n",
      "[I 2025-08-06 16:09:34,284] Trial 6 finished with value: 0.9992753623188406 and parameters: {'C': 0.8804819950105331, 'max_iter': 32, 'penalty': 'l2'}. Best is trial 0 with value: 0.9992753623188406.\n",
      "[I 2025-08-06 16:09:34,320] Trial 7 finished with value: 0.9992753623188406 and parameters: {'C': 0.9377092451133845, 'max_iter': 100, 'penalty': 'l2'}. Best is trial 0 with value: 0.9992753623188406.\n",
      "C:\\Users\\souza\\AppData\\Local\\Packages\\PythonSoftwareFoundation.Python.3.11_qbz5n2kfra8p0\\LocalCache\\local-packages\\Python311\\site-packages\\sklearn\\linear_model\\_logistic.py:469: ConvergenceWarning: lbfgs failed to converge (status=1):\n",
      "STOP: TOTAL NO. of ITERATIONS REACHED LIMIT.\n",
      "\n",
      "Increase the number of iterations (max_iter) or scale the data as shown in:\n",
      "    https://scikit-learn.org/stable/modules/preprocessing.html\n",
      "Please also refer to the documentation for alternative solver options:\n",
      "    https://scikit-learn.org/stable/modules/linear_model.html#logistic-regression\n",
      "  n_iter_i = _check_optimize_result(\n",
      "[I 2025-08-06 16:09:34,350] Trial 8 finished with value: 0.0 and parameters: {'C': 0.057885771195435254, 'max_iter': 2, 'penalty': 'l2'}. Best is trial 0 with value: 0.9992753623188406.\n",
      "[I 2025-08-06 16:09:34,391] Trial 9 finished with value: 0.9992753623188406 and parameters: {'C': 0.7317659205201889, 'max_iter': 77, 'penalty': 'l2'}. Best is trial 0 with value: 0.9992753623188406.\n",
      "C:\\Users\\souza\\AppData\\Local\\Packages\\PythonSoftwareFoundation.Python.3.11_qbz5n2kfra8p0\\LocalCache\\local-packages\\Python311\\site-packages\\sklearn\\linear_model\\_logistic.py:469: ConvergenceWarning: lbfgs failed to converge (status=1):\n",
      "STOP: TOTAL NO. of ITERATIONS REACHED LIMIT.\n",
      "\n",
      "Increase the number of iterations (max_iter) or scale the data as shown in:\n",
      "    https://scikit-learn.org/stable/modules/preprocessing.html\n",
      "Please also refer to the documentation for alternative solver options:\n",
      "    https://scikit-learn.org/stable/modules/linear_model.html#logistic-regression\n",
      "  n_iter_i = _check_optimize_result(\n",
      "[I 2025-08-06 16:09:34,430] Trial 10 finished with value: 0.0 and parameters: {'C': 0.3493223176191012, 'max_iter': 0, 'penalty': 'l2'}. Best is trial 0 with value: 0.9992753623188406.\n",
      "[I 2025-08-06 16:09:34,474] Trial 11 finished with value: 0.9992753623188406 and parameters: {'C': 0.37003233336132946, 'max_iter': 65, 'penalty': 'l2'}. Best is trial 0 with value: 0.9992753623188406.\n",
      "[I 2025-08-06 16:09:34,514] Trial 12 finished with value: 0.9992753623188406 and parameters: {'C': 0.4364251606728052, 'max_iter': 55, 'penalty': 'l2'}. Best is trial 0 with value: 0.9992753623188406.\n",
      "[I 2025-08-06 16:09:34,555] Trial 13 finished with value: 0.9992753623188406 and parameters: {'C': 0.1987235704709749, 'max_iter': 92, 'penalty': 'l2'}. Best is trial 0 with value: 0.9992753623188406.\n",
      "[I 2025-08-06 16:09:34,604] Trial 14 finished with value: 0.9992753623188406 and parameters: {'C': 0.5039513793676456, 'max_iter': 19, 'penalty': 'l2'}. Best is trial 0 with value: 0.9992753623188406.\n",
      "[I 2025-08-06 16:09:34,645] Trial 15 finished with value: 0.9992753623188406 and parameters: {'C': 0.553564647817567, 'max_iter': 46, 'penalty': 'l2'}. Best is trial 0 with value: 0.9992753623188406.\n",
      "[I 2025-08-06 16:09:34,686] Trial 16 finished with value: 0.9992753623188406 and parameters: {'C': 0.24708315669425418, 'max_iter': 59, 'penalty': 'l2'}. Best is trial 0 with value: 0.9992753623188406.\n",
      "[I 2025-08-06 16:09:34,725] Trial 17 finished with value: 0.9992753623188406 and parameters: {'C': 0.2359196841429082, 'max_iter': 13, 'penalty': 'l2'}. Best is trial 0 with value: 0.9992753623188406.\n",
      "[I 2025-08-06 16:09:34,765] Trial 18 finished with value: 0.9992753623188406 and parameters: {'C': 0.5708944237584992, 'max_iter': 37, 'penalty': 'l2'}. Best is trial 0 with value: 0.9992753623188406.\n",
      "[I 2025-08-06 16:09:34,805] Trial 19 finished with value: 0.9992753623188406 and parameters: {'C': 0.004616189490277978, 'max_iter': 83, 'penalty': 'l2'}. Best is trial 0 with value: 0.9992753623188406.\n",
      "[I 2025-08-06 16:09:34,845] Trial 20 finished with value: 0.9992753623188406 and parameters: {'C': 0.364628825441, 'max_iter': 67, 'penalty': 'l2'}. Best is trial 0 with value: 0.9992753623188406.\n",
      "[I 2025-08-06 16:09:34,888] Trial 21 finished with value: 0.9992753623188406 and parameters: {'C': 0.633205406949015, 'max_iter': 75, 'penalty': 'l2'}. Best is trial 0 with value: 0.9992753623188406.\n",
      "[I 2025-08-06 16:09:34,935] Trial 22 finished with value: 0.9992753623188406 and parameters: {'C': 0.8166428116437294, 'max_iter': 69, 'penalty': 'l2'}. Best is trial 0 with value: 0.9992753623188406.\n",
      "[I 2025-08-06 16:09:34,982] Trial 23 finished with value: 0.9992753623188406 and parameters: {'C': 0.47620092159682603, 'max_iter': 89, 'penalty': 'l2'}. Best is trial 0 with value: 0.9992753623188406.\n",
      "[I 2025-08-06 16:09:35,029] Trial 24 finished with value: 0.9992753623188406 and parameters: {'C': 0.6264909061879093, 'max_iter': 57, 'penalty': 'l2'}. Best is trial 0 with value: 0.9992753623188406.\n",
      "[I 2025-08-06 16:09:35,075] Trial 25 finished with value: 0.9992753623188406 and parameters: {'C': 0.44040544146432553, 'max_iter': 44, 'penalty': 'l2'}. Best is trial 0 with value: 0.9992753623188406.\n",
      "[I 2025-08-06 16:09:35,117] Trial 26 finished with value: 0.9992753623188406 and parameters: {'C': 0.6273572942335485, 'max_iter': 78, 'penalty': 'l2'}. Best is trial 0 with value: 0.9992753623188406.\n",
      "C:\\Users\\souza\\AppData\\Local\\Packages\\PythonSoftwareFoundation.Python.3.11_qbz5n2kfra8p0\\LocalCache\\local-packages\\Python311\\site-packages\\sklearn\\linear_model\\_logistic.py:469: ConvergenceWarning: lbfgs failed to converge (status=1):\n",
      "STOP: TOTAL NO. of ITERATIONS REACHED LIMIT.\n",
      "\n",
      "Increase the number of iterations (max_iter) or scale the data as shown in:\n",
      "    https://scikit-learn.org/stable/modules/preprocessing.html\n",
      "Please also refer to the documentation for alternative solver options:\n",
      "    https://scikit-learn.org/stable/modules/linear_model.html#logistic-regression\n",
      "  n_iter_i = _check_optimize_result(\n",
      "[I 2025-08-06 16:09:35,156] Trial 27 finished with value: 0.9992753623188406 and parameters: {'C': 0.7972984908932288, 'max_iter': 9, 'penalty': 'l2'}. Best is trial 0 with value: 0.9992753623188406.\n",
      "[I 2025-08-06 16:09:35,197] Trial 28 finished with value: 0.9992753623188406 and parameters: {'C': 0.3121996334764021, 'max_iter': 62, 'penalty': 'l2'}. Best is trial 0 with value: 0.9992753623188406.\n",
      "[I 2025-08-06 16:09:35,241] Trial 29 finished with value: 0.9992753623188406 and parameters: {'C': 0.13582089367267902, 'max_iter': 49, 'penalty': 'l2'}. Best is trial 0 with value: 0.9992753623188406.\n",
      "[I 2025-08-06 16:09:35,283] Trial 30 finished with value: 0.9992753623188406 and parameters: {'C': 0.5491295694639279, 'max_iter': 72, 'penalty': 'l2'}. Best is trial 0 with value: 0.9992753623188406.\n",
      "[I 2025-08-06 16:09:35,326] Trial 31 finished with value: 0.9992753623188406 and parameters: {'C': 0.7137479419022941, 'max_iter': 28, 'penalty': 'l2'}. Best is trial 0 with value: 0.9992753623188406.\n",
      "[I 2025-08-06 16:09:35,366] Trial 32 finished with value: 0.9992753623188406 and parameters: {'C': 0.7383675891650434, 'max_iter': 83, 'penalty': 'l2'}. Best is trial 0 with value: 0.9992753623188406.\n",
      "[I 2025-08-06 16:09:35,407] Trial 33 finished with value: 0.9992753623188406 and parameters: {'C': 0.677591518417555, 'max_iter': 40, 'penalty': 'l2'}. Best is trial 0 with value: 0.9992753623188406.\n",
      "[I 2025-08-06 16:09:35,450] Trial 34 finished with value: 0.9992753623188406 and parameters: {'C': 0.8352728326640064, 'max_iter': 52, 'penalty': 'l2'}. Best is trial 0 with value: 0.9992753623188406.\n",
      "[I 2025-08-06 16:09:35,496] Trial 35 finished with value: 0.9992753623188406 and parameters: {'C': 0.42518622198186784, 'max_iter': 30, 'penalty': 'l2'}. Best is trial 0 with value: 0.9992753623188406.\n",
      "[I 2025-08-06 16:09:35,537] Trial 36 finished with value: 0.9992753623188406 and parameters: {'C': 0.5136533165197498, 'max_iter': 100, 'penalty': 'l2'}. Best is trial 0 with value: 0.9992753623188406.\n",
      "[I 2025-08-06 16:09:35,579] Trial 37 finished with value: 0.9992753623188406 and parameters: {'C': 0.5978510347150319, 'max_iter': 37, 'penalty': 'l2'}. Best is trial 0 with value: 0.9992753623188406.\n",
      "[I 2025-08-06 16:09:35,630] Trial 38 finished with value: 0.9992753623188406 and parameters: {'C': 0.9435974698913209, 'max_iter': 20, 'penalty': 'l2'}. Best is trial 0 with value: 0.9992753623188406.\n",
      "[I 2025-08-06 16:09:35,669] Trial 39 finished with value: 0.9992753623188406 and parameters: {'C': 0.6882089079000863, 'max_iter': 63, 'penalty': 'l2'}. Best is trial 0 with value: 0.9992753623188406.\n",
      "[I 2025-08-06 16:09:35,711] Trial 40 finished with value: 0.9992753623188406 and parameters: {'C': 0.8957061804634541, 'max_iter': 80, 'penalty': 'l2'}. Best is trial 0 with value: 0.9992753623188406.\n",
      "[I 2025-08-06 16:09:35,757] Trial 41 finished with value: 0.9992753623188406 and parameters: {'C': 0.7729749776571209, 'max_iter': 17, 'penalty': 'l2'}. Best is trial 0 with value: 0.9992753623188406.\n",
      "[I 2025-08-06 16:09:35,798] Trial 42 finished with value: 0.9992753623188406 and parameters: {'C': 0.754194019851, 'max_iter': 25, 'penalty': 'l2'}. Best is trial 0 with value: 0.9992753623188406.\n",
      "[I 2025-08-06 16:09:35,842] Trial 43 finished with value: 0.9992753623188406 and parameters: {'C': 0.6706831569085121, 'max_iter': 33, 'penalty': 'l2'}. Best is trial 0 with value: 0.9992753623188406.\n",
      "C:\\Users\\souza\\AppData\\Local\\Packages\\PythonSoftwareFoundation.Python.3.11_qbz5n2kfra8p0\\LocalCache\\local-packages\\Python311\\site-packages\\sklearn\\linear_model\\_logistic.py:469: ConvergenceWarning: lbfgs failed to converge (status=1):\n",
      "STOP: TOTAL NO. of ITERATIONS REACHED LIMIT.\n",
      "\n",
      "Increase the number of iterations (max_iter) or scale the data as shown in:\n",
      "    https://scikit-learn.org/stable/modules/preprocessing.html\n",
      "Please also refer to the documentation for alternative solver options:\n",
      "    https://scikit-learn.org/stable/modules/linear_model.html#logistic-regression\n",
      "  n_iter_i = _check_optimize_result(\n",
      "[I 2025-08-06 16:09:35,885] Trial 44 finished with value: 0.9992753623188406 and parameters: {'C': 0.8741383222904016, 'max_iter': 9, 'penalty': 'l2'}. Best is trial 0 with value: 0.9992753623188406.\n",
      "[I 2025-08-06 16:09:35,927] Trial 45 finished with value: 0.9992753623188406 and parameters: {'C': 0.4075152699472396, 'max_iter': 52, 'penalty': 'l2'}. Best is trial 0 with value: 0.9992753623188406.\n",
      "[I 2025-08-06 16:09:35,969] Trial 46 finished with value: 0.9992753623188406 and parameters: {'C': 0.5153950615063192, 'max_iter': 25, 'penalty': 'l2'}. Best is trial 0 with value: 0.9992753623188406.\n",
      "[I 2025-08-06 16:09:36,013] Trial 47 finished with value: 0.9992753623188406 and parameters: {'C': 0.47003566296722554, 'max_iter': 43, 'penalty': 'l2'}. Best is trial 0 with value: 0.9992753623188406.\n",
      "[I 2025-08-06 16:09:36,056] Trial 48 finished with value: 0.9992753623188406 and parameters: {'C': 0.32891519107770534, 'max_iter': 71, 'penalty': 'l2'}. Best is trial 0 with value: 0.9992753623188406.\n",
      "C:\\Users\\souza\\AppData\\Local\\Packages\\PythonSoftwareFoundation.Python.3.11_qbz5n2kfra8p0\\LocalCache\\local-packages\\Python311\\site-packages\\sklearn\\linear_model\\_logistic.py:469: ConvergenceWarning: lbfgs failed to converge (status=1):\n",
      "STOP: TOTAL NO. of ITERATIONS REACHED LIMIT.\n",
      "\n",
      "Increase the number of iterations (max_iter) or scale the data as shown in:\n",
      "    https://scikit-learn.org/stable/modules/preprocessing.html\n",
      "Please also refer to the documentation for alternative solver options:\n",
      "    https://scikit-learn.org/stable/modules/linear_model.html#logistic-regression\n",
      "  n_iter_i = _check_optimize_result(\n",
      "[I 2025-08-06 16:09:36,096] Trial 49 finished with value: 0.9992753623188406 and parameters: {'C': 0.559175274633473, 'max_iter': 5, 'penalty': 'l2'}. Best is trial 0 with value: 0.9992753623188406.\n"
     ]
    }
   ],
   "source": [
    "# criando estudo com optuna\n",
    "def objective(trial):\n",
    "    params = {\n",
    "        'C': trial.suggest_float('C', 0,1),\n",
    "        'max_iter': trial.suggest_int('max_iter', 0,100),\n",
    "        'penalty': trial.suggest_categorical('penalty', ['l2'])\n",
    "    }\n",
    "    model = pipe_log.set_params(model=LogisticRegression(**params, random_state=42)).fit(x_train, y_train)\n",
    "    y_pred = model.predict(x_test)\n",
    "    recall = recall_score(y_test, y_pred)\n",
    "    \n",
    "    return recall\n",
    "study = optuna.create_study(direction='maximize')\n",
    "study.optimize(objective, n_trials=50)"
   ]
  },
  {
   "cell_type": "code",
   "execution_count": 7,
   "id": "4e52f1e4",
   "metadata": {},
   "outputs": [
    {
     "name": "stdout",
     "output_type": "stream",
     "text": [
      "melhores parametros modelo regressao logistica: {'C': 0.5139292173030473, 'max_iter': 18, 'penalty': 'l2'}\n"
     ]
    }
   ],
   "source": [
    "print(f'melhores parametros modelo regressao logistica: {study.best_params}')"
   ]
  },
  {
   "cell_type": "code",
   "execution_count": 9,
   "id": "d436cfd5",
   "metadata": {},
   "outputs": [
    {
     "name": "stdout",
     "output_type": "stream",
     "text": [
      "recall: 0.9992753623188406\n",
      "acc: 0.9998798365777457\n",
      "precision: 1.0\n"
     ]
    }
   ],
   "source": [
    "logistic_reg = pipe_log.set_params(model=LogisticRegression(C= 0.5139292173030473, max_iter=18, penalty='l2', random_state=42)).fit(x_train, y_train)\n",
    "y_pred = logistic_reg.predict(x_test)\n",
    "print(f'recall: {recall_score(y_test, y_pred)}')\n",
    "print(f'acc: {accuracy_score(y_test, y_pred)}')\n",
    "print(f'precision: {precision_score(y_test, y_pred)}')"
   ]
  }
 ],
 "metadata": {
  "kernelspec": {
   "display_name": "Python 3",
   "language": "python",
   "name": "python3"
  },
  "language_info": {
   "codemirror_mode": {
    "name": "ipython",
    "version": 3
   },
   "file_extension": ".py",
   "mimetype": "text/x-python",
   "name": "python",
   "nbconvert_exporter": "python",
   "pygments_lexer": "ipython3",
   "version": "3.11.9"
  }
 },
 "nbformat": 4,
 "nbformat_minor": 5
}
