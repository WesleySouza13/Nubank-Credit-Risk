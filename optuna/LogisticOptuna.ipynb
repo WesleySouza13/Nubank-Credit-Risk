{
 "cells": [
  {
   "cell_type": "code",
   "execution_count": 12,
   "id": "6d85f8bd",
   "metadata": {},
   "outputs": [],
   "source": [
    "import pandas as pd\n",
    "from sklearn.linear_model import LogisticRegression\n",
    "import optuna\n",
    "from sklearn.pipeline import Pipeline\n",
    "from sklearn.compose import ColumnTransformer\n",
    "from sklearn.preprocessing import OneHotEncoder\n",
    "from sklearn.model_selection import train_test_split\n",
    "from sklearn.metrics import accuracy_score, recall_score, precision_score"
   ]
  },
  {
   "cell_type": "code",
   "execution_count": 2,
   "id": "e2e1d9cf",
   "metadata": {},
   "outputs": [],
   "source": [
    "df = pd.read_csv('C:\\\\Users\\\\souza\\\\OneDrive\\\\Área de Trabalho\\\\Risk Nubank\\\\data\\\\data_tratado.csv')\n",
    "df = df.drop('Unnamed: 0', axis=1)\n",
    "x = df.drop('target_default', axis=1)\n",
    "y = df['target_default']"
   ]
  },
  {
   "cell_type": "code",
   "execution_count": 3,
   "id": "f2ab6a19",
   "metadata": {},
   "outputs": [],
   "source": [
    "# split \n",
    "x_train, x_test, y_train, y_test = train_test_split(x, y, test_size=0.2)"
   ]
  },
  {
   "cell_type": "code",
   "execution_count": 4,
   "id": "d20f05de",
   "metadata": {},
   "outputs": [],
   "source": [
    "# seleçao de atributos \n",
    "cat_atribs = ['score_rating', 'situation']\n",
    "num_atribs = ['score_3', 'risk_rate', 'credit_limit', 'income', 'n_defaulted_loans', ' n_issues', 'ok_since',\n",
    "            'n_bankruptcies', ' score_rating_enc']"
   ]
  },
  {
   "cell_type": "code",
   "execution_count": 5,
   "id": "f7619ee9",
   "metadata": {},
   "outputs": [],
   "source": [
    "column_transf = ColumnTransformer([('onehot', OneHotEncoder(handle_unknown='ignore'), cat_atribs)\n",
    "                                ])\n",
    "pipe_log = Pipeline(steps=[('transformer', column_transf),\n",
    "                    ('model', LogisticRegression())\n",
    "                    ])"
   ]
  },
  {
   "cell_type": "code",
   "execution_count": 14,
   "id": "472ec5fa",
   "metadata": {},
   "outputs": [
    {
     "name": "stderr",
     "output_type": "stream",
     "text": [
      "[I 2025-08-06 15:42:52,424] A new study created in memory with name: no-name-8a32add4-83cc-458e-9249-a8094cc2eb45\n",
      "[I 2025-08-06 15:42:52,484] Trial 0 finished with value: 0.9977494373593399 and parameters: {'C': 0.4075176204524815, 'max_iter': 44, 'penalty': 'l2'}. Best is trial 0 with value: 0.9977494373593399.\n",
      "[I 2025-08-06 15:42:52,522] Trial 1 finished with value: 0.9977494373593399 and parameters: {'C': 0.8550417126757136, 'max_iter': 58, 'penalty': 'l2'}. Best is trial 0 with value: 0.9977494373593399.\n",
      "[I 2025-08-06 15:42:52,559] Trial 2 finished with value: 0.9977494373593399 and parameters: {'C': 0.09273453617356808, 'max_iter': 88, 'penalty': 'l2'}. Best is trial 0 with value: 0.9977494373593399.\n",
      "[I 2025-08-06 15:42:52,600] Trial 3 finished with value: 0.9977494373593399 and parameters: {'C': 0.09159890773330481, 'max_iter': 80, 'penalty': 'l2'}. Best is trial 0 with value: 0.9977494373593399.\n",
      "C:\\Users\\souza\\AppData\\Local\\Packages\\PythonSoftwareFoundation.Python.3.11_qbz5n2kfra8p0\\LocalCache\\local-packages\\Python311\\site-packages\\sklearn\\linear_model\\_logistic.py:469: ConvergenceWarning: lbfgs failed to converge (status=1):\n",
      "STOP: TOTAL NO. of ITERATIONS REACHED LIMIT.\n",
      "\n",
      "Increase the number of iterations (max_iter) or scale the data as shown in:\n",
      "    https://scikit-learn.org/stable/modules/preprocessing.html\n",
      "Please also refer to the documentation for alternative solver options:\n",
      "    https://scikit-learn.org/stable/modules/linear_model.html#logistic-regression\n",
      "  n_iter_i = _check_optimize_result(\n",
      "[I 2025-08-06 15:42:52,636] Trial 4 finished with value: 0.9977494373593399 and parameters: {'C': 0.21475772068428556, 'max_iter': 4, 'penalty': 'l2'}. Best is trial 0 with value: 0.9977494373593399.\n",
      "[I 2025-08-06 15:42:52,670] Trial 5 finished with value: 0.9977494373593399 and parameters: {'C': 0.9929032335045749, 'max_iter': 22, 'penalty': 'l2'}. Best is trial 0 with value: 0.9977494373593399.\n",
      "[I 2025-08-06 15:42:52,717] Trial 6 finished with value: 0.9977494373593399 and parameters: {'C': 0.8425948910798357, 'max_iter': 83, 'penalty': 'l2'}. Best is trial 0 with value: 0.9977494373593399.\n",
      "[I 2025-08-06 15:42:52,753] Trial 7 finished with value: 0.9977494373593399 and parameters: {'C': 0.03379512620485814, 'max_iter': 25, 'penalty': 'l2'}. Best is trial 0 with value: 0.9977494373593399.\n",
      "C:\\Users\\souza\\AppData\\Local\\Packages\\PythonSoftwareFoundation.Python.3.11_qbz5n2kfra8p0\\LocalCache\\local-packages\\Python311\\site-packages\\sklearn\\linear_model\\_logistic.py:469: ConvergenceWarning: lbfgs failed to converge (status=1):\n",
      "STOP: TOTAL NO. of ITERATIONS REACHED LIMIT.\n",
      "\n",
      "Increase the number of iterations (max_iter) or scale the data as shown in:\n",
      "    https://scikit-learn.org/stable/modules/preprocessing.html\n",
      "Please also refer to the documentation for alternative solver options:\n",
      "    https://scikit-learn.org/stable/modules/linear_model.html#logistic-regression\n",
      "  n_iter_i = _check_optimize_result(\n",
      "[I 2025-08-06 15:42:52,781] Trial 8 finished with value: 0.0 and parameters: {'C': 0.32826158601399535, 'max_iter': 1, 'penalty': 'l2'}. Best is trial 0 with value: 0.9977494373593399.\n",
      "[I 2025-08-06 15:42:52,815] Trial 9 finished with value: 0.9977494373593399 and parameters: {'C': 0.27604159315296994, 'max_iter': 71, 'penalty': 'l2'}. Best is trial 0 with value: 0.9977494373593399.\n",
      "[I 2025-08-06 15:42:52,872] Trial 10 finished with value: 0.9977494373593399 and parameters: {'C': 0.5356174161860143, 'max_iter': 45, 'penalty': 'l2'}. Best is trial 0 with value: 0.9977494373593399.\n",
      "[I 2025-08-06 15:42:52,917] Trial 11 finished with value: 0.9977494373593399 and parameters: {'C': 0.5768231437426758, 'max_iter': 57, 'penalty': 'l2'}. Best is trial 0 with value: 0.9977494373593399.\n",
      "[I 2025-08-06 15:42:52,971] Trial 12 finished with value: 0.9977494373593399 and parameters: {'C': 0.7142711795571424, 'max_iter': 48, 'penalty': 'l2'}. Best is trial 0 with value: 0.9977494373593399.\n",
      "[I 2025-08-06 15:42:53,032] Trial 13 finished with value: 0.9977494373593399 and parameters: {'C': 0.41738091586070747, 'max_iter': 62, 'penalty': 'l2'}. Best is trial 0 with value: 0.9977494373593399.\n",
      "[I 2025-08-06 15:42:53,080] Trial 14 finished with value: 0.9977494373593399 and parameters: {'C': 0.7274318126721071, 'max_iter': 37, 'penalty': 'l2'}. Best is trial 0 with value: 0.9977494373593399.\n",
      "[I 2025-08-06 15:42:53,124] Trial 15 finished with value: 0.9977494373593399 and parameters: {'C': 0.97687014859144, 'max_iter': 32, 'penalty': 'l2'}. Best is trial 0 with value: 0.9977494373593399.\n",
      "[I 2025-08-06 15:42:53,170] Trial 16 finished with value: 0.9977494373593399 and parameters: {'C': 0.6431219291665583, 'max_iter': 68, 'penalty': 'l2'}. Best is trial 0 with value: 0.9977494373593399.\n",
      "[I 2025-08-06 15:42:53,212] Trial 17 finished with value: 0.9977494373593399 and parameters: {'C': 0.4537331235446077, 'max_iter': 96, 'penalty': 'l2'}. Best is trial 0 with value: 0.9977494373593399.\n",
      "[I 2025-08-06 15:42:53,257] Trial 18 finished with value: 0.9977494373593399 and parameters: {'C': 0.8502746684671103, 'max_iter': 56, 'penalty': 'l2'}. Best is trial 0 with value: 0.9977494373593399.\n",
      "[I 2025-08-06 15:42:53,302] Trial 19 finished with value: 0.9977494373593399 and parameters: {'C': 0.3923209339072696, 'max_iter': 18, 'penalty': 'l2'}. Best is trial 0 with value: 0.9977494373593399.\n",
      "[I 2025-08-06 15:42:53,348] Trial 20 finished with value: 0.9977494373593399 and parameters: {'C': 0.8523925404633624, 'max_iter': 42, 'penalty': 'l2'}. Best is trial 0 with value: 0.9977494373593399.\n",
      "[I 2025-08-06 15:42:53,394] Trial 21 finished with value: 0.9977494373593399 and parameters: {'C': 0.15988726389228103, 'max_iter': 98, 'penalty': 'l2'}. Best is trial 0 with value: 0.9977494373593399.\n",
      "[I 2025-08-06 15:42:53,452] Trial 22 finished with value: 0.9977494373593399 and parameters: {'C': 0.12980773947118163, 'max_iter': 84, 'penalty': 'l2'}. Best is trial 0 with value: 0.9977494373593399.\n",
      "[I 2025-08-06 15:42:53,498] Trial 23 finished with value: 0.9977494373593399 and parameters: {'C': 0.019259634391788905, 'max_iter': 73, 'penalty': 'l2'}. Best is trial 0 with value: 0.9977494373593399.\n",
      "[I 2025-08-06 15:42:53,544] Trial 24 finished with value: 0.9977494373593399 and parameters: {'C': 0.30588513025075054, 'max_iter': 53, 'penalty': 'l2'}. Best is trial 0 with value: 0.9977494373593399.\n",
      "[I 2025-08-06 15:42:53,595] Trial 25 finished with value: 0.9977494373593399 and parameters: {'C': 0.22939467710124628, 'max_iter': 91, 'penalty': 'l2'}. Best is trial 0 with value: 0.9977494373593399.\n",
      "[I 2025-08-06 15:42:53,647] Trial 26 finished with value: 0.9977494373593399 and parameters: {'C': 0.592355515681259, 'max_iter': 64, 'penalty': 'l2'}. Best is trial 0 with value: 0.9977494373593399.\n",
      "[I 2025-08-06 15:42:53,695] Trial 27 finished with value: 0.9977494373593399 and parameters: {'C': 0.696346206583864, 'max_iter': 30, 'penalty': 'l2'}. Best is trial 0 with value: 0.9977494373593399.\n",
      "[I 2025-08-06 15:42:53,740] Trial 28 finished with value: 0.9977494373593399 and parameters: {'C': 0.5170272969298948, 'max_iter': 75, 'penalty': 'l2'}. Best is trial 0 with value: 0.9977494373593399.\n",
      "[I 2025-08-06 15:42:53,792] Trial 29 finished with value: 0.9977494373593399 and parameters: {'C': 0.364937988673779, 'max_iter': 15, 'penalty': 'l2'}. Best is trial 0 with value: 0.9977494373593399.\n",
      "[I 2025-08-06 15:42:53,836] Trial 30 finished with value: 0.9977494373593399 and parameters: {'C': 0.10539834674508636, 'max_iter': 89, 'penalty': 'l2'}. Best is trial 0 with value: 0.9977494373593399.\n",
      "[I 2025-08-06 15:42:53,887] Trial 31 finished with value: 0.9977494373593399 and parameters: {'C': 0.17788034297435923, 'max_iter': 79, 'penalty': 'l2'}. Best is trial 0 with value: 0.9977494373593399.\n",
      "[I 2025-08-06 15:42:53,941] Trial 32 finished with value: 0.9977494373593399 and parameters: {'C': 0.07494470710804253, 'max_iter': 89, 'penalty': 'l2'}. Best is trial 0 with value: 0.9977494373593399.\n",
      "[I 2025-08-06 15:42:53,990] Trial 33 finished with value: 0.9977494373593399 and parameters: {'C': 0.2068703402776545, 'max_iter': 80, 'penalty': 'l2'}. Best is trial 0 with value: 0.9977494373593399.\n",
      "[I 2025-08-06 15:42:54,036] Trial 34 finished with value: 0.9977494373593399 and parameters: {'C': 0.24626033155247756, 'max_iter': 63, 'penalty': 'l2'}. Best is trial 0 with value: 0.9977494373593399.\n",
      "[I 2025-08-06 15:42:54,079] Trial 35 finished with value: 0.9977494373593399 and parameters: {'C': 0.07584451213318065, 'max_iter': 41, 'penalty': 'l2'}. Best is trial 0 with value: 0.9977494373593399.\n",
      "C:\\Users\\souza\\AppData\\Local\\Packages\\PythonSoftwareFoundation.Python.3.11_qbz5n2kfra8p0\\LocalCache\\local-packages\\Python311\\site-packages\\sklearn\\linear_model\\_logistic.py:469: ConvergenceWarning: lbfgs failed to converge (status=1):\n",
      "STOP: TOTAL NO. of ITERATIONS REACHED LIMIT.\n",
      "\n",
      "Increase the number of iterations (max_iter) or scale the data as shown in:\n",
      "    https://scikit-learn.org/stable/modules/preprocessing.html\n",
      "Please also refer to the documentation for alternative solver options:\n",
      "    https://scikit-learn.org/stable/modules/linear_model.html#logistic-regression\n",
      "  n_iter_i = _check_optimize_result(\n",
      "[I 2025-08-06 15:42:54,121] Trial 36 finished with value: 0.9977494373593399 and parameters: {'C': 0.77720814772741, 'max_iter': 9, 'penalty': 'l2'}. Best is trial 0 with value: 0.9977494373593399.\n",
      "[I 2025-08-06 15:42:54,168] Trial 37 finished with value: 0.9977494373593399 and parameters: {'C': 0.009799824896268058, 'max_iter': 83, 'penalty': 'l2'}. Best is trial 0 with value: 0.9977494373593399.\n",
      "[I 2025-08-06 15:42:54,226] Trial 38 finished with value: 0.9977494373593399 and parameters: {'C': 0.9104290037531219, 'max_iter': 49, 'penalty': 'l2'}. Best is trial 0 with value: 0.9977494373593399.\n",
      "[I 2025-08-06 15:42:54,273] Trial 39 finished with value: 0.9977494373593399 and parameters: {'C': 0.45874692484189106, 'max_iter': 68, 'penalty': 'l2'}. Best is trial 0 with value: 0.9977494373593399.\n",
      "[I 2025-08-06 15:42:54,318] Trial 40 finished with value: 0.9977494373593399 and parameters: {'C': 0.3291201588651183, 'max_iter': 60, 'penalty': 'l2'}. Best is trial 0 with value: 0.9977494373593399.\n",
      "C:\\Users\\souza\\AppData\\Local\\Packages\\PythonSoftwareFoundation.Python.3.11_qbz5n2kfra8p0\\LocalCache\\local-packages\\Python311\\site-packages\\sklearn\\linear_model\\_logistic.py:469: ConvergenceWarning: lbfgs failed to converge (status=1):\n",
      "STOP: TOTAL NO. of ITERATIONS REACHED LIMIT.\n",
      "\n",
      "Increase the number of iterations (max_iter) or scale the data as shown in:\n",
      "    https://scikit-learn.org/stable/modules/preprocessing.html\n",
      "Please also refer to the documentation for alternative solver options:\n",
      "    https://scikit-learn.org/stable/modules/linear_model.html#logistic-regression\n",
      "  n_iter_i = _check_optimize_result(\n",
      "[I 2025-08-06 15:42:54,360] Trial 41 finished with value: 0.9977494373593399 and parameters: {'C': 0.16165225464093474, 'max_iter': 4, 'penalty': 'l2'}. Best is trial 0 with value: 0.9977494373593399.\n",
      "[I 2025-08-06 15:42:54,404] Trial 42 finished with value: 0.9977494373593399 and parameters: {'C': 0.27427941909064457, 'max_iter': 25, 'penalty': 'l2'}. Best is trial 0 with value: 0.9977494373593399.\n",
      "[I 2025-08-06 15:42:54,449] Trial 43 finished with value: 0.9977494373593399 and parameters: {'C': 0.09473983864593505, 'max_iter': 100, 'penalty': 'l2'}. Best is trial 0 with value: 0.9977494373593399.\n",
      "[I 2025-08-06 15:42:54,499] Trial 44 finished with value: 0.9977494373593399 and parameters: {'C': 0.05081456269568704, 'max_iter': 93, 'penalty': 'l2'}. Best is trial 0 with value: 0.9977494373593399.\n",
      "[I 2025-08-06 15:42:54,542] Trial 45 finished with value: 0.9977494373593399 and parameters: {'C': 0.13786753215564057, 'max_iter': 78, 'penalty': 'l2'}. Best is trial 0 with value: 0.9977494373593399.\n",
      "[I 2025-08-06 15:42:54,585] Trial 46 finished with value: 0.9977494373593399 and parameters: {'C': 0.19651746650696822, 'max_iter': 35, 'penalty': 'l2'}. Best is trial 0 with value: 0.9977494373593399.\n",
      "[I 2025-08-06 15:42:54,632] Trial 47 finished with value: 0.9977494373593399 and parameters: {'C': 0.44800030334327656, 'max_iter': 86, 'penalty': 'l2'}. Best is trial 0 with value: 0.9977494373593399.\n",
      "[I 2025-08-06 15:42:54,676] Trial 48 finished with value: 0.9977494373593399 and parameters: {'C': 0.3384640505027415, 'max_iter': 68, 'penalty': 'l2'}. Best is trial 0 with value: 0.9977494373593399.\n",
      "[I 2025-08-06 15:42:54,722] Trial 49 finished with value: 0.9977494373593399 and parameters: {'C': 0.5544608048949223, 'max_iter': 19, 'penalty': 'l2'}. Best is trial 0 with value: 0.9977494373593399.\n"
     ]
    }
   ],
   "source": [
    "# criando estudo com optuna\n",
    "def objective(trial):\n",
    "    paramns = {\n",
    "        'C': trial.suggest_float('C', 0,1),\n",
    "        'max_iter': trial.suggest_int('max_iter', 0,100),\n",
    "        'penalty': trial.suggest_categorical('penalty', ['l2'])\n",
    "    }\n",
    "    model = pipe_log.set_params(model=LogisticRegression(**paramns, random_state=42)).fit(x_train, y_train)\n",
    "    y_pred = model.predict(x_test)\n",
    "    recall = recall_score(y_test, y_pred)\n",
    "    \n",
    "    return recall\n",
    "study = optuna.create_study(direction='maximize')\n",
    "study.optimize(objective, n_trials=50)"
   ]
  },
  {
   "cell_type": "code",
   "execution_count": 15,
   "id": "4e52f1e4",
   "metadata": {},
   "outputs": [
    {
     "name": "stdout",
     "output_type": "stream",
     "text": [
      "melhores parametros modelo regressao logistica: {'C': 0.4075176204524815, 'max_iter': 44, 'penalty': 'l2'}\n"
     ]
    }
   ],
   "source": [
    "print(f'melhores parametros modelo regressao logistica: {study.best_params}')"
   ]
  },
  {
   "cell_type": "code",
   "execution_count": 16,
   "id": "d436cfd5",
   "metadata": {},
   "outputs": [
    {
     "name": "stdout",
     "output_type": "stream",
     "text": [
      "recall: 0.9977494373593399\n",
      "acc: 0.9996395097332372\n",
      "precision: 1.0\n"
     ]
    }
   ],
   "source": [
    "logistic_reg = pipe_log.set_params(model=LogisticRegression(C= 0.4075176204524815, max_iter=44, penalty='l2', random_state=42)).fit(x_train, y_train)\n",
    "y_pred = logistic_reg.predict(x_test)\n",
    "print(f'recall: {recall_score(y_test, y_pred)}')\n",
    "print(f'acc: {accuracy_score(y_test, y_pred)}')\n",
    "print(f'precision: {precision_score(y_test, y_pred)}')"
   ]
  }
 ],
 "metadata": {
  "kernelspec": {
   "display_name": "Python 3",
   "language": "python",
   "name": "python3"
  },
  "language_info": {
   "codemirror_mode": {
    "name": "ipython",
    "version": 3
   },
   "file_extension": ".py",
   "mimetype": "text/x-python",
   "name": "python",
   "nbconvert_exporter": "python",
   "pygments_lexer": "ipython3",
   "version": "3.11.9"
  }
 },
 "nbformat": 4,
 "nbformat_minor": 5
}
