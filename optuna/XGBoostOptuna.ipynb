{
 "cells": [
  {
   "cell_type": "code",
   "execution_count": 1,
   "id": "debc3d82",
   "metadata": {},
   "outputs": [
    {
     "name": "stderr",
     "output_type": "stream",
     "text": [
      "C:\\Users\\souza\\AppData\\Local\\Packages\\PythonSoftwareFoundation.Python.3.11_qbz5n2kfra8p0\\LocalCache\\local-packages\\Python311\\site-packages\\tqdm\\auto.py:21: TqdmWarning: IProgress not found. Please update jupyter and ipywidgets. See https://ipywidgets.readthedocs.io/en/stable/user_install.html\n",
      "  from .autonotebook import tqdm as notebook_tqdm\n"
     ]
    }
   ],
   "source": [
    "import pandas as pd\n",
    "import xgboost \n",
    "import optuna\n",
    "from xgboost import XGBClassifier\n",
    "from sklearn.pipeline import Pipeline\n",
    "from sklearn.compose import ColumnTransformer\n",
    "from sklearn.preprocessing import OneHotEncoder\n",
    "from sklearn.model_selection import train_test_split\n",
    "from sklearn.metrics import accuracy_score, recall_score, precision_score"
   ]
  },
  {
   "cell_type": "code",
   "execution_count": 2,
   "id": "75f05d77",
   "metadata": {},
   "outputs": [],
   "source": [
    "df = pd.read_csv('C:\\\\Users\\\\souza\\\\OneDrive\\\\Área de Trabalho\\\\Risk Nubank\\\\data\\\\data_tratado.csv')\n",
    "df = df.drop('Unnamed: 0', axis=1)\n",
    "df = df.drop('score_rating_enc', axis=1)\n",
    "x = df.drop('target_default', axis=1)\n",
    "y = df['target_default']"
   ]
  },
  {
   "cell_type": "code",
   "execution_count": 3,
   "id": "84f20e6d",
   "metadata": {},
   "outputs": [],
   "source": [
    "# split \n",
    "x_train, x_test, y_train, y_test = train_test_split(x, y, test_size=0.2)"
   ]
  },
  {
   "cell_type": "code",
   "execution_count": 4,
   "id": "3ad76456",
   "metadata": {},
   "outputs": [],
   "source": [
    "# seleçao de atributos \n",
    "cat_atribs = ['score_rating', 'situation']\n",
    "num_atribs = ['score_3', 'risk_rate', 'credit_limit', 'income', 'n_defaulted_loans', ' n_issues', 'ok_since',\n",
    "            'n_bankruptcies']"
   ]
  },
  {
   "cell_type": "code",
   "execution_count": 5,
   "id": "8789dbae",
   "metadata": {},
   "outputs": [],
   "source": [
    "column_transf = ColumnTransformer([('onehot', OneHotEncoder(handle_unknown='ignore'), cat_atribs)\n",
    "                                ])\n",
    "pipe_xgboost = Pipeline(steps=[('transformer', column_transf),\n",
    "                    ('model', XGBClassifier())\n",
    "                    ])"
   ]
  },
  {
   "cell_type": "code",
   "execution_count": 10,
   "id": "8328e23c",
   "metadata": {},
   "outputs": [
    {
     "name": "stderr",
     "output_type": "stream",
     "text": [
      "[I 2025-08-06 16:35:38,449] A new study created in memory with name: no-name-bc0c93ef-70a7-4798-845e-6de027278a7e\n",
      "[I 2025-08-06 16:35:38,574] Trial 0 finished with value: 1.0 and parameters: {'gamma': 3, 'max_depth': 8, 'max_delta_step': 1, 'subsample': 0.6803547999898337, 'reg_lambda': 0.7557940213385035}. Best is trial 0 with value: 1.0.\n",
      "[I 2025-08-06 16:35:38,696] Trial 1 finished with value: 1.0 and parameters: {'gamma': 3, 'max_depth': 10, 'max_delta_step': 7, 'subsample': 0.2695669714329568, 'reg_lambda': 0.8789036916098918}. Best is trial 0 with value: 1.0.\n",
      "[I 2025-08-06 16:35:38,810] Trial 2 finished with value: 1.0 and parameters: {'gamma': 4, 'max_depth': 2, 'max_delta_step': 1, 'subsample': 0.20456513984492675, 'reg_lambda': 0.6465897822990677}. Best is trial 0 with value: 1.0.\n",
      "[I 2025-08-06 16:35:38,925] Trial 3 finished with value: 1.0 and parameters: {'gamma': 4, 'max_depth': 5, 'max_delta_step': 5, 'subsample': 0.38293787650907496, 'reg_lambda': 0.9194477009639626}. Best is trial 0 with value: 1.0.\n",
      "[I 2025-08-06 16:35:39,057] Trial 4 finished with value: 1.0 and parameters: {'gamma': 4, 'max_depth': 4, 'max_delta_step': 8, 'subsample': 0.3503015937641806, 'reg_lambda': 0.7553090804048603}. Best is trial 0 with value: 1.0.\n",
      "[I 2025-08-06 16:35:39,200] Trial 5 finished with value: 1.0 and parameters: {'gamma': 3, 'max_depth': 1, 'max_delta_step': 2, 'subsample': 0.41998568477361775, 'reg_lambda': 0.6457183392760042}. Best is trial 0 with value: 1.0.\n",
      "[I 2025-08-06 16:35:39,323] Trial 6 finished with value: 1.0 and parameters: {'gamma': 4, 'max_depth': 1, 'max_delta_step': 8, 'subsample': 0.6407972119450384, 'reg_lambda': 0.7479498455851533}. Best is trial 0 with value: 1.0.\n",
      "[I 2025-08-06 16:35:39,447] Trial 7 finished with value: 1.0 and parameters: {'gamma': 0, 'max_depth': 0, 'max_delta_step': 5, 'subsample': 0.6226179789611834, 'reg_lambda': 0.6584871070443268}. Best is trial 0 with value: 1.0.\n",
      "[I 2025-08-06 16:35:39,592] Trial 8 finished with value: 1.0 and parameters: {'gamma': 2, 'max_depth': 8, 'max_delta_step': 2, 'subsample': 0.14479993433766392, 'reg_lambda': 0.7846761878064341}. Best is trial 0 with value: 1.0.\n",
      "[I 2025-08-06 16:35:39,722] Trial 9 finished with value: 1.0 and parameters: {'gamma': 4, 'max_depth': 6, 'max_delta_step': 4, 'subsample': 0.7297711505035491, 'reg_lambda': 0.7092919564611935}. Best is trial 0 with value: 1.0.\n",
      "[I 2025-08-06 16:35:39,864] Trial 10 finished with value: 1.0 and parameters: {'gamma': 1, 'max_depth': 10, 'max_delta_step': 10, 'subsample': 0.9964576688198246, 'reg_lambda': 0.5408520072956617}. Best is trial 0 with value: 1.0.\n",
      "[I 2025-08-06 16:35:40,025] Trial 11 finished with value: 1.0 and parameters: {'gamma': 2, 'max_depth': 10, 'max_delta_step': 7, 'subsample': 0.8707548253160157, 'reg_lambda': 0.8879920404720502}. Best is trial 0 with value: 1.0.\n",
      "[I 2025-08-06 16:35:40,165] Trial 12 finished with value: 1.0 and parameters: {'gamma': 3, 'max_depth': 8, 'max_delta_step': 7, 'subsample': 0.015721165885810517, 'reg_lambda': 0.9835853809132814}. Best is trial 0 with value: 1.0.\n",
      "[I 2025-08-06 16:35:40,308] Trial 13 finished with value: 1.0 and parameters: {'gamma': 5, 'max_depth': 8, 'max_delta_step': 3, 'subsample': 0.5201864126039956, 'reg_lambda': 0.8415644557183629}. Best is trial 0 with value: 1.0.\n",
      "[I 2025-08-06 16:35:40,462] Trial 14 finished with value: 1.0 and parameters: {'gamma': 2, 'max_depth': 9, 'max_delta_step': 10, 'subsample': 0.24905267867413625, 'reg_lambda': 0.8503482987484601}. Best is trial 0 with value: 1.0.\n",
      "[I 2025-08-06 16:35:40,622] Trial 15 finished with value: 1.0 and parameters: {'gamma': 1, 'max_depth': 6, 'max_delta_step': 6, 'subsample': 0.8095258966782612, 'reg_lambda': 0.9705401742464492}. Best is trial 0 with value: 1.0.\n",
      "[I 2025-08-06 16:35:40,777] Trial 16 finished with value: 1.0 and parameters: {'gamma': 3, 'max_depth': 7, 'max_delta_step': 4, 'subsample': 0.5080656654245658, 'reg_lambda': 0.8207143890325274}. Best is trial 0 with value: 1.0.\n",
      "[I 2025-08-06 16:35:40,919] Trial 17 finished with value: 1.0 and parameters: {'gamma': 5, 'max_depth': 10, 'max_delta_step': 1, 'subsample': 0.028893385793558046, 'reg_lambda': 0.509339239774246}. Best is trial 0 with value: 1.0.\n",
      "[I 2025-08-06 16:35:41,092] Trial 18 finished with value: 1.0 and parameters: {'gamma': 1, 'max_depth': 9, 'max_delta_step': 9, 'subsample': 0.6057015395043501, 'reg_lambda': 0.9025781168275823}. Best is trial 0 with value: 1.0.\n",
      "[I 2025-08-06 16:35:41,242] Trial 19 finished with value: 1.0 and parameters: {'gamma': 3, 'max_depth': 4, 'max_delta_step': 6, 'subsample': 0.2877832260985177, 'reg_lambda': 0.5843437223340611}. Best is trial 0 with value: 1.0.\n",
      "[I 2025-08-06 16:35:41,392] Trial 20 finished with value: 1.0 and parameters: {'gamma': 2, 'max_depth': 7, 'max_delta_step': 4, 'subsample': 0.13012446434776204, 'reg_lambda': 0.7911500164703198}. Best is trial 0 with value: 1.0.\n",
      "[I 2025-08-06 16:35:41,548] Trial 21 finished with value: 1.0 and parameters: {'gamma': 4, 'max_depth': 3, 'max_delta_step': 1, 'subsample': 0.1963588887239159, 'reg_lambda': 0.6631117745520185}. Best is trial 0 with value: 1.0.\n",
      "[I 2025-08-06 16:35:41,691] Trial 22 finished with value: 1.0 and parameters: {'gamma': 5, 'max_depth': 2, 'max_delta_step': 2, 'subsample': 0.44914429751974183, 'reg_lambda': 0.6144473140924192}. Best is trial 0 with value: 1.0.\n",
      "[I 2025-08-06 16:35:41,836] Trial 23 finished with value: 1.0 and parameters: {'gamma': 3, 'max_depth': 3, 'max_delta_step': 3, 'subsample': 0.3265672494582157, 'reg_lambda': 0.7127342356797185}. Best is trial 0 with value: 1.0.\n",
      "[I 2025-08-06 16:35:41,980] Trial 24 finished with value: 1.0 and parameters: {'gamma': 4, 'max_depth': 9, 'max_delta_step': 1, 'subsample': 0.11320306109730188, 'reg_lambda': 0.6975313168089144}. Best is trial 0 with value: 1.0.\n",
      "[I 2025-08-06 16:35:42,124] Trial 25 finished with value: 1.0 and parameters: {'gamma': 3, 'max_depth': 7, 'max_delta_step': 3, 'subsample': 0.1927399684605121, 'reg_lambda': 0.5813757514208715}. Best is trial 0 with value: 1.0.\n",
      "[I 2025-08-06 16:35:42,277] Trial 26 finished with value: 1.0 and parameters: {'gamma': 5, 'max_depth': 5, 'max_delta_step': 7, 'subsample': 0.6929144789270989, 'reg_lambda': 0.7410813685744052}. Best is trial 0 with value: 1.0.\n",
      "[I 2025-08-06 16:35:42,436] Trial 27 finished with value: 1.0 and parameters: {'gamma': 4, 'max_depth': 0, 'max_delta_step': 2, 'subsample': 0.5343418218476781, 'reg_lambda': 0.943133912210389}. Best is trial 0 with value: 1.0.\n",
      "[I 2025-08-06 16:35:42,588] Trial 28 finished with value: 1.0 and parameters: {'gamma': 3, 'max_depth': 9, 'max_delta_step': 1, 'subsample': 0.23261795479445424, 'reg_lambda': 0.8782280621669515}. Best is trial 0 with value: 1.0.\n",
      "[I 2025-08-06 16:35:42,736] Trial 29 finished with value: 1.0 and parameters: {'gamma': 2, 'max_depth': 6, 'max_delta_step': 5, 'subsample': 0.4101836901024755, 'reg_lambda': 0.9374775586035867}. Best is trial 0 with value: 1.0.\n",
      "[I 2025-08-06 16:35:42,889] Trial 30 finished with value: 1.0 and parameters: {'gamma': 4, 'max_depth': 4, 'max_delta_step': 6, 'subsample': 0.08784430196802934, 'reg_lambda': 0.7997328072036389}. Best is trial 0 with value: 1.0.\n",
      "[I 2025-08-06 16:35:43,038] Trial 31 finished with value: 1.0 and parameters: {'gamma': 4, 'max_depth': 5, 'max_delta_step': 8, 'subsample': 0.3683264915195535, 'reg_lambda': 0.9216181332875508}. Best is trial 0 with value: 1.0.\n",
      "[I 2025-08-06 16:35:43,190] Trial 32 finished with value: 1.0 and parameters: {'gamma': 3, 'max_depth': 3, 'max_delta_step': 9, 'subsample': 0.3363822068333232, 'reg_lambda': 0.88035794612525}. Best is trial 0 with value: 1.0.\n",
      "[I 2025-08-06 16:35:43,342] Trial 33 finished with value: 1.0 and parameters: {'gamma': 4, 'max_depth': 2, 'max_delta_step': 8, 'subsample': 0.4416307642428619, 'reg_lambda': 0.8606519136581904}. Best is trial 0 with value: 1.0.\n",
      "[I 2025-08-06 16:35:43,489] Trial 34 finished with value: 1.0 and parameters: {'gamma': 5, 'max_depth': 1, 'max_delta_step': 5, 'subsample': 0.2833286666585968, 'reg_lambda': 0.765455411119723}. Best is trial 0 with value: 1.0.\n",
      "[I 2025-08-06 16:35:43,637] Trial 35 finished with value: 1.0 and parameters: {'gamma': 4, 'max_depth': 2, 'max_delta_step': 2, 'subsample': 0.373533304820679, 'reg_lambda': 0.9994209056284102}. Best is trial 0 with value: 1.0.\n",
      "[I 2025-08-06 16:35:43,790] Trial 36 finished with value: 1.0 and parameters: {'gamma': 3, 'max_depth': 8, 'max_delta_step': 3, 'subsample': 0.5914378178059645, 'reg_lambda': 0.6859370467072219}. Best is trial 0 with value: 1.0.\n",
      "[I 2025-08-06 16:35:43,953] Trial 37 finished with value: 1.0 and parameters: {'gamma': 0, 'max_depth': 6, 'max_delta_step': 7, 'subsample': 0.8740545683572623, 'reg_lambda': 0.6245760603953071}. Best is trial 0 with value: 1.0.\n",
      "[I 2025-08-06 16:35:44,115] Trial 38 finished with value: 1.0 and parameters: {'gamma': 4, 'max_depth': 10, 'max_delta_step': 9, 'subsample': 0.7377004461119542, 'reg_lambda': 0.7385972346330971}. Best is trial 0 with value: 1.0.\n",
      "[I 2025-08-06 16:35:44,259] Trial 39 finished with value: 1.0 and parameters: {'gamma': 2, 'max_depth': 5, 'max_delta_step': 4, 'subsample': 0.18838582310006383, 'reg_lambda': 0.822518502226183}. Best is trial 0 with value: 1.0.\n",
      "[I 2025-08-06 16:35:44,433] Trial 40 finished with value: 1.0 and parameters: {'gamma': 3, 'max_depth': 0, 'max_delta_step': 2, 'subsample': 0.4662404092795608, 'reg_lambda': 0.9537423551907224}. Best is trial 0 with value: 1.0.\n",
      "[I 2025-08-06 16:35:44,590] Trial 41 finished with value: 1.0 and parameters: {'gamma': 4, 'max_depth': 4, 'max_delta_step': 8, 'subsample': 0.2782254206755658, 'reg_lambda': 0.7527491887046868}. Best is trial 0 with value: 1.0.\n",
      "[I 2025-08-06 16:35:44,737] Trial 42 finished with value: 1.0 and parameters: {'gamma': 4, 'max_depth': 4, 'max_delta_step': 7, 'subsample': 0.3445464134146723, 'reg_lambda': 0.7208941750522228}. Best is trial 0 with value: 1.0.\n",
      "[I 2025-08-06 16:35:44,897] Trial 43 finished with value: 1.0 and parameters: {'gamma': 5, 'max_depth': 1, 'max_delta_step': 8, 'subsample': 0.5652610124501287, 'reg_lambda': 0.6638581669439346}. Best is trial 0 with value: 1.0.\n",
      "[I 2025-08-06 16:35:45,047] Trial 44 finished with value: 1.0 and parameters: {'gamma': 4, 'max_depth': 7, 'max_delta_step': 9, 'subsample': 0.4080886468901277, 'reg_lambda': 0.7777994434311324}. Best is trial 0 with value: 1.0.\n",
      "[I 2025-08-06 16:35:45,192] Trial 45 finished with value: 1.0 and parameters: {'gamma': 3, 'max_depth': 6, 'max_delta_step': 10, 'subsample': 0.07451016528680166, 'reg_lambda': 0.9124641107562548}. Best is trial 0 with value: 1.0.\n",
      "[I 2025-08-06 16:35:45,337] Trial 46 finished with value: 1.0 and parameters: {'gamma': 2, 'max_depth': 3, 'max_delta_step': 6, 'subsample': 0.6770787834839227, 'reg_lambda': 0.8097814988153401}. Best is trial 0 with value: 1.0.\n",
      "[I 2025-08-06 16:35:45,481] Trial 47 finished with value: 1.0 and parameters: {'gamma': 3, 'max_depth': 10, 'max_delta_step': 1, 'subsample': 0.15912787723602784, 'reg_lambda': 0.8442075514138916}. Best is trial 0 with value: 1.0.\n",
      "[I 2025-08-06 16:35:45,633] Trial 48 finished with value: 1.0 and parameters: {'gamma': 4, 'max_depth': 8, 'max_delta_step': 5, 'subsample': 0.3101218048149792, 'reg_lambda': 0.5551009030793512}. Best is trial 0 with value: 1.0.\n",
      "[I 2025-08-06 16:35:45,780] Trial 49 finished with value: 1.0 and parameters: {'gamma': 5, 'max_depth': 5, 'max_delta_step': 7, 'subsample': 0.9796190877785058, 'reg_lambda': 0.6385463508977105}. Best is trial 0 with value: 1.0.\n"
     ]
    },
    {
     "name": "stdout",
     "output_type": "stream",
     "text": [
      "melhores parametros {'gamma': 3, 'max_depth': 8, 'max_delta_step': 1, 'subsample': 0.6803547999898337, 'reg_lambda': 0.7557940213385035}\n"
     ]
    }
   ],
   "source": [
    "# criando estudo para xgboost \n",
    "def objective(trial):\n",
    "    params = {\n",
    "        'gamma': trial.suggest_int('gamma', 0, 5),\n",
    "        'max_depth': trial.suggest_int('max_depth', 0, 10), \n",
    "        'max_delta_step': trial.suggest_int('max_delta_step', 1, 10), \n",
    "        'subsample': trial.suggest_float('subsample', 0, 1), \n",
    "        'reg_lambda': trial.suggest_float('reg_lambda', 0.5, 1)\n",
    "    }\n",
    "    model = pipe_xgboost.set_params(model=XGBClassifier(**params)).fit(x_train, y_train)\n",
    "    y_pred = model.predict(x_test)\n",
    "    recall = recall_score(y_test, y_pred)\n",
    "    \n",
    "    return recall \n",
    "study = optuna.create_study(direction='maximize')\n",
    "study.optimize(objective, n_trials=50)\n",
    "print(f'melhores parametros {study.best_params}')"
   ]
  },
  {
   "cell_type": "code",
   "execution_count": 11,
   "id": "af13263f",
   "metadata": {},
   "outputs": [
    {
     "name": "stdout",
     "output_type": "stream",
     "text": [
      "recall: 1.0\n",
      "acc: 1.0\n",
      "precision: 1.0\n"
     ]
    }
   ],
   "source": [
    "xgboost = pipe_xgboost.set_params(model=XGBClassifier(gamma='3', max_depth=8, max_delta_step=1, \n",
    "                                                    subsample=0.6803547999898337, reg_lambda=0.7557940213385035)).fit(x_train, y_train)\n",
    "y_pred = xgboost.predict(x_test)\n",
    "print(f'recall: {recall_score(y_test, y_pred)}')\n",
    "print(f'acc: {accuracy_score(y_test, y_pred)}')\n",
    "print(f'precision: {precision_score(y_test, y_pred)}')"
   ]
  }
 ],
 "metadata": {
  "kernelspec": {
   "display_name": "Python 3",
   "language": "python",
   "name": "python3"
  },
  "language_info": {
   "codemirror_mode": {
    "name": "ipython",
    "version": 3
   },
   "file_extension": ".py",
   "mimetype": "text/x-python",
   "name": "python",
   "nbconvert_exporter": "python",
   "pygments_lexer": "ipython3",
   "version": "3.11.9"
  }
 },
 "nbformat": 4,
 "nbformat_minor": 5
}
